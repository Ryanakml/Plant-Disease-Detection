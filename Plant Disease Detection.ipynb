{
 "cells": [
  {
   "cell_type": "markdown",
   "id": "777d1984-b975-4b6a-a41d-0143b4352fb5",
   "metadata": {},
   "source": [
    "# **Plant Disease Detector**"
   ]
  },
  {
   "cell_type": "markdown",
   "id": "ed1ecbac-3775-49ab-b7bd-f2e32eadef6a",
   "metadata": {},
   "source": [
    "**Gambaran Umum Proses**\n",
    "\n",
    "![](https://images-provider.frontiersin.org/api/ipx/w=410&f=webp/https://www.frontiersin.org/files/Articles/1356260/fpls-15-1356260-HTML/image_m/fpls-15-1356260-g001.jpg)"
   ]
  },
  {
   "cell_type": "markdown",
   "id": "0e0c1b03-43c7-455e-987a-76aae758fd7e",
   "metadata": {},
   "source": [
    "# FETCH DATASET"
   ]
  },
  {
   "cell_type": "code",
   "execution_count": 1,
   "id": "340ddd6c-54d9-4abb-89a9-fb6947acf6fc",
   "metadata": {},
   "outputs": [
    {
     "name": "stdout",
     "output_type": "stream",
     "text": [
      "Dataset URL: https://www.kaggle.com/datasets/emmarex/plantdisease\n",
      "License(s): unknown\n",
      "Downloading plantdisease.zip to ./plantvillage\n",
      "100%|███████████████████████████████████████▉| 657M/658M [01:51<00:00, 7.37MB/s]\n",
      "100%|████████████████████████████████████████| 658M/658M [01:51<00:00, 6.19MB/s]\n"
     ]
    }
   ],
   "source": [
    "!kaggle datasets download -d emmarex/plantdisease -p ./plantvillage"
   ]
  },
  {
   "cell_type": "markdown",
   "id": "d0ea96eb-69c9-44da-9ba4-e609d39bad03",
   "metadata": {},
   "source": [
    "# INITIAL"
   ]
  },
  {
   "cell_type": "code",
   "execution_count": null,
   "id": "35fccde8-9b2a-44fb-8b87-03917a38e2f9",
   "metadata": {},
   "outputs": [],
   "source": [
    "import zipfile\n",
    "import os\n",
    "import shutil\n",
    "from sklearn.model_selection import train_test_split\n",
    "from tensorflow.keras.preprocessing.image import ImageDataGenerator\n",
    "from tensorflow.keras.models import Sequential\n",
    "from tensorflow.keras.layers import Dense, Conv2D, MaxPooling2D, Flatten, Dropout\n",
    "from tensorflow.keras.optimizers import Adam\n",
    "import matplotlib.pyplot as plt"
   ]
  },
  {
   "cell_type": "markdown",
   "id": "ae1b20f4-99d8-481d-ad88-4e972762caa8",
   "metadata": {},
   "source": [
    "# UNZIP FILE"
   ]
  },
  {
   "cell_type": "code",
   "execution_count": null,
   "id": "9acdfa5b-c66d-4df7-8731-e59b55029fae",
   "metadata": {},
   "outputs": [],
   "source": [
    "# Unzip the dataset file\n",
    "zip_path = './plantvillage/plantdisease.zip'\n",
    "extract_to_path = './plantvillage'\n",
    "\n",
    "with zipfile.ZipFile(zip_path, 'r') as zip_ref:\n",
    "    zip_ref.extractall(extract_to_path)\n",
    "\n",
    "print(\"Dataset unzipped successfully!\")\n"
   ]
  },
  {
   "cell_type": "markdown",
   "id": "f5c88b5e-0f8c-4195-b587-707065f5655b",
   "metadata": {},
   "source": [
    "# PROGRAM AND MODELS"
   ]
  },
  {
   "cell_type": "code",
   "execution_count": null,
   "id": "bf23651d-36eb-4a50-874c-3a5d62f368ef",
   "metadata": {
    "scrolled": true
   },
   "outputs": [],
   "source": [
    "# Organize the dataset\n",
    "# dataset_dir = os.path.join(extract_to_path, 'PlantVillage')\n",
    "\n",
    "dataset_dir = os.path.join(extract_to_path, 'PlantVillage')\n",
    "\n",
    "# Create directories for training and testing data\n",
    "train_dir = os.path.join(extract_to_path, 'train')\n",
    "test_dir = os.path.join(extract_to_path, 'test')\n",
    "\n",
    "if not os.path.exists(train_dir):\n",
    "    os.makedirs(train_dir)\n",
    "if not os.path.exists(test_dir):\n",
    "    os.makedirs(test_dir)\n",
    "\n",
    "# Get class labels from subdirectories\n",
    "class_names = os.listdir(dataset_dir)\n",
    "\n",
    "for class_name in class_names:\n",
    "    class_path = os.path.join(dataset_dir, class_name)\n",
    "    if os.path.isdir(class_path):\n",
    "        # Create directories for each class in train and test\n",
    "        train_class_dir = os.path.join(train_dir, class_name)\n",
    "        test_class_dir = os.path.join(test_dir, class_name)\n",
    "        if not os.path.exists(train_class_dir):\n",
    "            os.makedirs(train_class_dir)\n",
    "        if not os.path.exists(test_class_dir):\n",
    "            os.makedirs(test_class_dir)\n",
    "\n",
    "        # List all images in the current class\n",
    "        all_images = os.listdir(class_path)\n",
    "        train_images, test_images = train_test_split(all_images, test_size=0.2, random_state=42)\n",
    "        \n",
    "        for image in train_images:\n",
    "            shutil.copy(os.path.join(class_path, image), os.path.join(train_class_dir, image))\n",
    "        for image in test_images:\n",
    "            shutil.copy(os.path.join(class_path, image), os.path.join(test_class_dir, image))\n",
    "\n",
    "print(\"Data organized into training and testing directories!\")\n",
    "\n",
    "# Image data generators for training and validation\n",
    "train_datagen = ImageDataGenerator(\n",
    "    rescale=1./255,\n",
    "    rotation_range=20,\n",
    "    width_shift_range=0.2,\n",
    "    height_shift_range=0.2,\n",
    "    shear_range=0.2,\n",
    "    zoom_range=0.2,\n",
    "    horizontal_flip=True,\n",
    "    fill_mode='nearest'\n",
    ")\n",
    "\n",
    "test_datagen = ImageDataGenerator(rescale=1./255)\n",
    "\n",
    "train_generator = train_datagen.flow_from_directory(\n",
    "    train_dir,\n",
    "    target_size=(150, 150),\n",
    "    batch_size=32,\n",
    "    class_mode='categorical'\n",
    ")\n",
    "\n",
    "test_generator = test_datagen.flow_from_directory(\n",
    "    test_dir,\n",
    "    target_size=(150, 150),\n",
    "    batch_size=32,\n",
    "    class_mode='categorical'\n",
    ")\n",
    "\n",
    "# Build the model\n",
    "model = Sequential([\n",
    "    Conv2D(32, (3, 3), activation='relu', input_shape=(150, 150, 3)),\n",
    "    MaxPooling2D(pool_size=(2, 2)),\n",
    "    Conv2D(64, (3, 3), activation='relu'),\n",
    "    MaxPooling2D(pool_size=(2, 2)),\n",
    "    Conv2D(128, (3, 3), activation='relu'),\n",
    "    MaxPooling2D(pool_size=(2, 2)),\n",
    "    Flatten(),\n",
    "    Dense(512, activation='relu'),\n",
    "    Dropout(0.5),\n",
    "    Dense(len(train_generator.class_indices), activation='softmax')\n",
    "])\n",
    "\n",
    "# Compile the model\n",
    "model.compile(optimizer=Adam(learning_rate=0.0001), loss='categorical_crossentropy', metrics=['accuracy'])\n",
    "\n",
    "# Train the model\n",
    "history = model.fit(\n",
    "    train_generator,\n",
    "    steps_per_epoch=train_generator.samples // train_generator.batch_size,\n",
    "    epochs=20,\n",
    "    validation_data=test_generator,\n",
    "    validation_steps=test_generator.samples // test_generator.batch_size\n",
    ")\n",
    "\n",
    "# Evaluate the model\n",
    "test_loss, test_acc = model.evaluate(test_generator, steps=test_generator.samples // test_generator.batch_size)\n",
    "print(f'Test accuracy: {test_acc:.2f}')\n",
    "print(f'Test loss: {test_loss:.2f}')\n",
    "\n",
    "# Plot training history\n",
    "plt.plot(history.history['accuracy'], label='accuracy')\n",
    "plt.plot(history.history['val_accuracy'], label = 'val_accuracy')\n",
    "plt.xlabel('Epoch')\n",
    "plt.ylabel('Accuracy')\n",
    "plt.ylim([0, 1])\n",
    "plt.legend(loc='lower right')\n",
    "plt.show()"
   ]
  },
  {
   "cell_type": "markdown",
   "id": "951aca8e-a635-4931-a9db-962be9b19c77",
   "metadata": {},
   "source": [
    "# DF"
   ]
  },
  {
   "cell_type": "code",
   "execution_count": null,
   "id": "03e49d28-7bd9-4419-8296-f7ca59128e7d",
   "metadata": {},
   "outputs": [],
   "source": [
    "# Prepare dataset summary DataFrame\n",
    "## Peview sinkat untuk gamabaran\n",
    "import pandas as pd\n",
    "\n",
    "def get_image_paths_and_labels(directory):\n",
    "    image_paths = []\n",
    "    labels = []\n",
    "    for class_name in os.listdir(directory):\n",
    "        class_path = os.path.join(directory, class_name)\n",
    "        if os.path.isdir(class_path):\n",
    "            for image_name in os.listdir(class_path):\n",
    "                image_paths.append(os.path.join(class_path, image_name))\n",
    "                labels.append(class_name)\n",
    "    return image_paths, labels\n",
    "\n",
    "train_image_paths, train_labels = get_image_paths_and_labels(train_dir)\n",
    "\n",
    "# Create DataFrame\n",
    "df = pd.DataFrame({\n",
    "    'Image Path': train_image_paths,\n",
    "    'Label': train_labels\n",
    "})\n",
    "\n",
    "# Display the DataFrame\n",
    "print(df[['Image Path', 'Label']].head())\n",
    "\n",
    "# Optional: Save the DataFrame to a CSV file\n",
    "df.to_csv('dataset_summary.csv', index=False)"
   ]
  },
  {
   "cell_type": "markdown",
   "id": "f8d4cfe7-fc44-48ff-a40b-ffa9bf022c2c",
   "metadata": {},
   "source": [
    "# Save Models "
   ]
  },
  {
   "cell_type": "code",
   "execution_count": null,
   "id": "11bd5c25-bd04-4a07-9d7c-d6efa4a2903b",
   "metadata": {},
   "outputs": [],
   "source": [
    "# Define the path to save the model\n",
    "model_save_path = './plantvillage/model.h5'\n",
    "\n",
    "# Save the entire model to the specified directory\n",
    "model.save(model_save_path)\n",
    "\n",
    "print(f\"Model saved to {model_save_path}\")\n",
    "\n",
    "from tensorflow.keras.models import load_model\n",
    "\n",
    "# Load the model from the specified directory\n",
    "model = load_model(model_save_path)\n",
    "\n",
    "print(\"Model loaded successfully!\")\n"
   ]
  },
  {
   "cell_type": "markdown",
   "id": "66d9aa53-8b71-4933-8a8a-c769382b8db8",
   "metadata": {},
   "source": [
    "# UI and Deployment"
   ]
  },
  {
   "cell_type": "code",
   "execution_count": null,
   "id": "c7382c50-a6f9-4bfe-be43-98549bfc7e9d",
   "metadata": {},
   "outputs": [],
   "source": [
    "# Function to predict the class of a new image\n",
    "def predict_image(image_path, model):\n",
    "    img = load_img(image_path, target_size=(150, 150))\n",
    "    img_array = img_to_array(img)\n",
    "    img_array = np.expand_dims(img_array, axis=0)\n",
    "    img_array /= 255.0\n",
    "    predictions = model.predict(img_array)\n",
    "    predicted_class = np.argmax(predictions[0])\n",
    "    class_labels = list(train_generator.class_indices.keys())\n",
    "    return class_labels[predicted_class]\n",
    "\n",
    "# Example usage for prediction\n",
    "new_image_path = 'path_to_new_image.jpg'  # Replace with the path to the new image\n",
    "predicted_class = predict_image(new_image_path, model)\n",
    "print(f'The predicted class for the image is: {predicted_class}')"
   ]
  }
 ],
 "metadata": {
  "kernelspec": {
   "display_name": "Python 3 (ipykernel)",
   "language": "python",
   "name": "python3"
  },
  "language_info": {
   "codemirror_mode": {
    "name": "ipython",
    "version": 3
   },
   "file_extension": ".py",
   "mimetype": "text/x-python",
   "name": "python",
   "nbconvert_exporter": "python",
   "pygments_lexer": "ipython3",
   "version": "3.12.3"
  }
 },
 "nbformat": 4,
 "nbformat_minor": 5
}
