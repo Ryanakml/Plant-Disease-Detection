{
 "cells": [
  {
   "cell_type": "markdown",
   "id": "777d1984-b975-4b6a-a41d-0143b4352fb5",
   "metadata": {},
   "source": [
    "# **Plant Disease Detector**"
   ]
  },
  {
   "cell_type": "markdown",
   "id": "ed1ecbac-3775-49ab-b7bd-f2e32eadef6a",
   "metadata": {},
   "source": [
    "**Gambaran Umum Proses**\n",
    "\n",
    "![](https://images-provider.frontiersin.org/api/ipx/w=410&f=webp/https://www.frontiersin.org/files/Articles/1356260/fpls-15-1356260-HTML/image_m/fpls-15-1356260-g001.jpg)"
   ]
  },
  {
   "cell_type": "code",
   "execution_count": 1,
   "id": "340ddd6c-54d9-4abb-89a9-fb6947acf6fc",
   "metadata": {},
   "outputs": [
    {
     "name": "stdout",
     "output_type": "stream",
     "text": [
      "Dataset URL: https://www.kaggle.com/datasets/emmarex/plantdisease\n",
      "License(s): unknown\n",
      "Downloading plantdisease.zip to ./plantvillage\n",
      "100%|███████████████████████████████████████▉| 657M/658M [01:51<00:00, 7.37MB/s]\n",
      "100%|████████████████████████████████████████| 658M/658M [01:51<00:00, 6.19MB/s]\n"
     ]
    }
   ],
   "source": [
    "!kaggle datasets download -d emmarex/plantdisease -p ./plantvillage"
   ]
  },
  {
   "cell_type": "markdown",
   "id": "4bf7bc47-10bf-4752-93f4-ecc7b4a61849",
   "metadata": {},
   "source": [
    "## **Processing the image**\n",
    "\n",
    "* Contrast\n",
    "* Blur\n",
    "* Noise\n"
   ]
  },
  {
   "cell_type": "code",
   "execution_count": 6,
   "id": "9879b44a-7e5f-412e-8549-3afaef547389",
   "metadata": {},
   "outputs": [],
   "source": [
    "import cv2\n",
    "import numpy as np\n",
    "import os\n",
    "\n",
    "\n",
    "def load_data(dataset_dir):\n",
    "    image_paths = []\n",
    "    labels = []\n",
    "    class_names = sorted(os.listdir(dataset_dir))\n",
    "\n",
    "    for label in class_names:\n",
    "        class_dir = os.path.join(dataset_dir, label)\n",
    "        for img_name in os.listdir(class_dir):\n",
    "            img_path = os.path.join(class_dir, img_name)\n",
    "            image_paths.append(img_path)\n",
    "            labels.append(label)\n",
    "\n",
    "    return image_paths, labels, class_names\n",
    "\n",
    "def preprocess_image(image_path, target_size=(128, 128)):\n",
    "    img = cv2.imread(image_path)\n",
    "    img = cv2.resize(img, target_size)\n",
    "    img = img / 255.0  # Normalize\n",
    "    return img\n",
    "\n",
    "# Load data\n",
    "\n",
    "plantvillage = r'/Users/ryanakmalpasya/Documents/[1] BS/[2] Freelance/PROJECTS/[1] EMERGING/[2] AI/[3] CV Adv/Image Segmentation/plantvillage/plantdisease/PlantVillage'\n",
    "image_paths, labels, class_names = load_data(plantvillage)\n"
   ]
  },
  {
   "cell_type": "code",
   "execution_count": 16,
   "id": "a8fb7f8c-b82d-4caf-9373-a81e73e4e87e",
   "metadata": {
    "scrolled": true
   },
   "outputs": [
    {
     "name": "stdout",
     "output_type": "stream",
     "text": [
      "                                          Image Path  \\\n",
      "0  /Users/ryanakmalpasya/Documents/[1] BS/[2] Fre...   \n",
      "1  /Users/ryanakmalpasya/Documents/[1] BS/[2] Fre...   \n",
      "2  /Users/ryanakmalpasya/Documents/[1] BS/[2] Fre...   \n",
      "3  /Users/ryanakmalpasya/Documents/[1] BS/[2] Fre...   \n",
      "4  /Users/ryanakmalpasya/Documents/[1] BS/[2] Fre...   \n",
      "\n",
      "                           Label                    Class Names  \n",
      "0  Pepper__bell___Bacterial_spot  Pepper__bell___Bacterial_spot  \n",
      "1  Pepper__bell___Bacterial_spot  Pepper__bell___Bacterial_spot  \n",
      "2  Pepper__bell___Bacterial_spot  Pepper__bell___Bacterial_spot  \n",
      "3  Pepper__bell___Bacterial_spot  Pepper__bell___Bacterial_spot  \n",
      "4  Pepper__bell___Bacterial_spot  Pepper__bell___Bacterial_spot  \n"
     ]
    }
   ],
   "source": [
    "## Peview sinkat untuk gamabaran\n",
    "import pandas as pd\n",
    "\n",
    "\n",
    "# dataframe\n",
    "df = pd.DataFrame({\n",
    "    'Image Path': image_paths,\n",
    "    'Label': labels\n",
    "})\n",
    "\n",
    "#  column untuk nama kelas\n",
    "df['Class Names'] = df['Label'].apply(lambda label: label if label in class_names else 'Unknown')\n",
    "\n",
    "# Display the DataFrame with the last two columns and the new class names column\n",
    "print(df[['Image Path', 'Label', 'Class Names']].head())\n",
    "\n",
    "# Optional: Save the DataFrame to a CSV file\n",
    "df[['Image Path', 'Label', 'Class Names']].to_csv('dataset_summary.csv', index=False)"
   ]
  },
  {
   "cell_type": "code",
   "execution_count": 19,
   "id": "8b70c940-c2eb-4dc8-89f5-25290a9eb31d",
   "metadata": {},
   "outputs": [],
   "source": [
    "## TRAIN AND TEST SET\n",
    "\n",
    "\n",
    "from sklearn.model_selection import train_test_split\n",
    "\n",
    "train_paths, val_paths, train_labels, val_labels = train_test_split(\n",
    "    image_paths, labels, test_size=0.2, stratify=labels, random_state=42\n",
    ")"
   ]
  },
  {
   "cell_type": "code",
   "execution_count": 20,
   "id": "3de914a2-ced6-4c31-a1c7-963edfb4ee11",
   "metadata": {},
   "outputs": [
    {
     "ename": "NameError",
     "evalue": "name 'num_classes' is not defined",
     "output_type": "error",
     "traceback": [
      "\u001b[0;31m---------------------------------------------------------------------------\u001b[0m",
      "\u001b[0;31mNameError\u001b[0m                                 Traceback (most recent call last)",
      "Cell \u001b[0;32mIn[20], line 14\u001b[0m\n\u001b[1;32m     11\u001b[0m     model \u001b[38;5;241m=\u001b[39m models\u001b[38;5;241m.\u001b[39mModel(inputs\u001b[38;5;241m=\u001b[39m[inputs], outputs\u001b[38;5;241m=\u001b[39m[outputs])\n\u001b[1;32m     12\u001b[0m     \u001b[38;5;28;01mreturn\u001b[39;00m model\n\u001b[0;32m---> 14\u001b[0m model \u001b[38;5;241m=\u001b[39m \u001b[43munet_model\u001b[49m\u001b[43m(\u001b[49m\u001b[43minput_shape\u001b[49m\u001b[38;5;241;43m=\u001b[39;49m\u001b[43m(\u001b[49m\u001b[38;5;241;43m128\u001b[39;49m\u001b[43m,\u001b[49m\u001b[43m \u001b[49m\u001b[38;5;241;43m128\u001b[39;49m\u001b[43m,\u001b[49m\u001b[43m \u001b[49m\u001b[38;5;241;43m3\u001b[39;49m\u001b[43m)\u001b[49m\u001b[43m)\u001b[49m\n\u001b[1;32m     15\u001b[0m model\u001b[38;5;241m.\u001b[39mcompile(optimizer\u001b[38;5;241m=\u001b[39m\u001b[38;5;124m'\u001b[39m\u001b[38;5;124madam\u001b[39m\u001b[38;5;124m'\u001b[39m, loss\u001b[38;5;241m=\u001b[39m\u001b[38;5;124m'\u001b[39m\u001b[38;5;124mcategorical_crossentropy\u001b[39m\u001b[38;5;124m'\u001b[39m, metrics\u001b[38;5;241m=\u001b[39m[\u001b[38;5;124m'\u001b[39m\u001b[38;5;124maccuracy\u001b[39m\u001b[38;5;124m'\u001b[39m])\n\u001b[1;32m     17\u001b[0m \u001b[38;5;66;03m# Convert paths to arrays of images and labels, and train the model\u001b[39;00m\n",
      "Cell \u001b[0;32mIn[20], line 10\u001b[0m, in \u001b[0;36munet_model\u001b[0;34m(input_shape)\u001b[0m\n\u001b[1;32m      5\u001b[0m inputs \u001b[38;5;241m=\u001b[39m layers\u001b[38;5;241m.\u001b[39mInput(input_shape)\n\u001b[1;32m      6\u001b[0m \u001b[38;5;66;03m# Define U-Net architecture here\u001b[39;00m\n\u001b[1;32m      7\u001b[0m \u001b[38;5;66;03m# Example:\u001b[39;00m\n\u001b[1;32m      8\u001b[0m \u001b[38;5;66;03m# c1 = layers.Conv2D(64, 3, activation='relu', padding='same')(inputs)\u001b[39;00m\n\u001b[1;32m      9\u001b[0m \u001b[38;5;66;03m# ...\u001b[39;00m\n\u001b[0;32m---> 10\u001b[0m outputs \u001b[38;5;241m=\u001b[39m layers\u001b[38;5;241m.\u001b[39mConv2D(\u001b[43mnum_classes\u001b[49m, \u001b[38;5;241m1\u001b[39m, activation\u001b[38;5;241m=\u001b[39m\u001b[38;5;124m'\u001b[39m\u001b[38;5;124msoftmax\u001b[39m\u001b[38;5;124m'\u001b[39m)(c9)\n\u001b[1;32m     11\u001b[0m model \u001b[38;5;241m=\u001b[39m models\u001b[38;5;241m.\u001b[39mModel(inputs\u001b[38;5;241m=\u001b[39m[inputs], outputs\u001b[38;5;241m=\u001b[39m[outputs])\n\u001b[1;32m     12\u001b[0m \u001b[38;5;28;01mreturn\u001b[39;00m model\n",
      "\u001b[0;31mNameError\u001b[0m: name 'num_classes' is not defined"
     ]
    }
   ],
   "source": [
    "import tensorflow as tf\n",
    "from tensorflow.keras import layers, models\n",
    "\n",
    "def unet_model(input_shape):\n",
    "    inputs = layers.Input(input_shape)\n",
    "    # Define U-Net architecture here\n",
    "    # Example:\n",
    "    # c1 = layers.Conv2D(64, 3, activation='relu', padding='same')(inputs)\n",
    "    # ...\n",
    "    outputs = layers.Conv2D(num_classes, 1, activation='softmax')(c9)\n",
    "    model = models.Model(inputs=[inputs], outputs=[outputs])\n",
    "    return model\n",
    "\n",
    "model = unet_model(input_shape=(128, 128, 3))\n",
    "model.compile(optimizer='adam', loss='categorical_crossentropy', metrics=['accuracy'])\n",
    "\n",
    "# Convert paths to arrays of images and labels, and train the model\n"
   ]
  },
  {
   "cell_type": "code",
   "execution_count": null,
   "id": "c516c3ab-fb59-4d7b-ae6d-1db6f49bdeb8",
   "metadata": {},
   "outputs": [],
   "source": []
  }
 ],
 "metadata": {
  "kernelspec": {
   "display_name": "Python 3 (ipykernel)",
   "language": "python",
   "name": "python3"
  },
  "language_info": {
   "codemirror_mode": {
    "name": "ipython",
    "version": 3
   },
   "file_extension": ".py",
   "mimetype": "text/x-python",
   "name": "python",
   "nbconvert_exporter": "python",
   "pygments_lexer": "ipython3",
   "version": "3.12.3"
  }
 },
 "nbformat": 4,
 "nbformat_minor": 5
}
